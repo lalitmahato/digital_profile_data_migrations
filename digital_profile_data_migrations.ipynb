{
 "cells": [
  {
   "cell_type": "code",
   "execution_count": 1,
   "id": "b3519279",
   "metadata": {},
   "outputs": [],
   "source": [
    "import pandas as pd\n",
    "import numpy as np"
   ]
  },
  {
   "cell_type": "code",
   "execution_count": 2,
   "id": "3c70a536",
   "metadata": {},
   "outputs": [],
   "source": [
    "import time\n",
    "from bs4 import BeautifulSoup\n",
    "from selenium import webdriver\n",
    "from selenium.webdriver.common.by import By\n",
    "from selenium.webdriver.support.ui import Select, WebDriverWait\n",
    "from selenium.webdriver.chrome.service import Service"
   ]
  },
  {
   "cell_type": "code",
   "execution_count": 3,
   "id": "68466339",
   "metadata": {},
   "outputs": [],
   "source": [
    "form_url = 'http://ee.kobo.local/x/2eyzRNLp'\n",
    "form_prefix = '/aCgbxk7xTdP4RgAwqHmSdo/'\n",
    "radio_inputs = []"
   ]
  },
  {
   "cell_type": "code",
   "execution_count": 4,
   "id": "47de2664",
   "metadata": {},
   "outputs": [],
   "source": [
    "df = pd.read_csv('घर_धर_ववरण_समबनध_परशनवल_-_all_versions_-_English_en_-_2023-03-27-04-29-43.csv')\n",
    "df"
   ]
  },
  {
   "cell_type": "code",
   "execution_count": 5,
   "id": "52801f77",
   "metadata": {},
   "outputs": [],
   "source": [
    "columns = df.columns\n",
    "print(columns)"
   ]
  },
  {
   "cell_type": "code",
   "execution_count": 6,
   "id": "d7206a4a",
   "metadata": {},
   "outputs": [],
   "source": [
    "null_count = df.isna().sum()\n",
    "for i in range(len(null_count)):\n",
    "    print(null_count.index[i],\":    \", null_count[i])"
   ]
  },
  {
   "cell_type": "code",
   "execution_count": 7,
   "id": "a10f917d",
   "metadata": {},
   "outputs": [],
   "source": [
    "null_count.sum()"
   ]
  },
  {
   "cell_type": "code",
   "execution_count": 8,
   "id": "441219ee",
   "metadata": {},
   "outputs": [],
   "source": [
    "users = df['_submitted_by'].unique()\n",
    "users"
   ]
  },
  {
   "cell_type": "code",
   "execution_count": 9,
   "id": "6d5efb92",
   "metadata": {},
   "outputs": [],
   "source": [
    "print(df['Province'].unique())\n",
    "print(df['District'].unique())\n",
    "print(df['Municipality'].unique())"
   ]
  },
  {
   "cell_type": "code",
   "execution_count": 10,
   "id": "d149f080",
   "metadata": {},
   "outputs": [],
   "source": [
    "jajarkot_rows = df[df['District'] == 'Jajarkot']\n",
    "jajarkot_rows"
   ]
  },
  {
   "cell_type": "code",
   "execution_count": 11,
   "id": "374fa26f",
   "metadata": {},
   "outputs": [],
   "source": [
    "# filter by user\n",
    "def filter_data_by_user(user, data=df):\n",
    "    data_user_mask = data['_submitted_by'] == user\n",
    "    final_data = data[data_user_mask]\n",
    "    return final_data"
   ]
  },
  {
   "cell_type": "code",
   "execution_count": 12,
   "id": "c1ab5957",
   "metadata": {},
   "outputs": [],
   "source": [
    "data_user = filter_data_by_user('palata-ward3-data_collector')\n",
    "data_user"
   ]
  },
  {
   "cell_type": "code",
   "execution_count": 13,
   "id": "f7bd4444",
   "metadata": {},
   "outputs": [],
   "source": [
    "s = Service(\"drivers/chromedriver_linux64/chromedriver\") # add the path of the driver\n",
    "driver = webdriver.Chrome(service=s)"
   ]
  },
  {
   "cell_type": "code",
   "execution_count": 14,
   "id": "1e2ed013",
   "metadata": {},
   "outputs": [],
   "source": [
    "# click on show more btn\n",
    "def join_with(data):\n",
    "    final_join = []\n",
    "    for c in data:\n",
    "        name = c.split()\n",
    "        final_join.append(\"_\".join(name))\n",
    "    return final_join\n",
    "        \n",
    "def get_url(url):\n",
    "    driver.get(url)\n",
    "    time.sleep(5)\n",
    "\n",
    "def show_more_btn():\n",
    "    show_more = driver.find_element(By.CLASS_NAME, 'Buttons__Button-sc-19xdot-1')\n",
    "    show_more.click()\n",
    "\n",
    "def to_bs4_object(html_page):\n",
    "    soup = BeautifulSoup(html_page, \"html.parser\")\n",
    "    return soup\n",
    "\n",
    "# Return the current url html code\n",
    "def get_page_source():\n",
    "    result = driver.page_source\n",
    "    soup = to_bs4_object(result)\n",
    "    return soup\n",
    "\n",
    "def submit_form():\n",
    "    submit = driver.find_element(By.ID, 'submit-form')\n",
    "    submit.click()\n",
    "\n",
    "def fill_form(form_name, data):\n",
    "    # fill the form\n",
    "    input = driver.find_element(By.NAME, form_name)\n",
    "    input.clear()\n",
    "    input.send_keys(data)\n",
    "\n",
    "def click_radio_btn(form_name):\n",
    "    radio_btn = driver.find_element(By.NAME, form_name)\n",
    "    radio_btn.click()\n",
    "\n",
    "def select_option_value(form_name, data):\n",
    "    select = Select(driver.find_element(By.NAME, form_name))\n",
    "    select.select_by_value(data)\n",
    "\n",
    "def select_dropdown(form_name, data):\n",
    "    # select the dropdown\n",
    "    select = Select(driver.find_element(By.NAME, form_name))\n",
    "    select.select_by_visible_text(data)\n",
    "    \n",
    "\n",
    "def click_btn(value):\n",
    "    btn = driver.find_element(By.CLASS_NAME, value)\n",
    "    btn.click()\n",
    "    \n",
    "def click_btns_xpath(xpath):\n",
    "    btn = driver.find_element(By.XPATH, xpath)\n",
    "    btn.click()\n",
    "    "
   ]
  },
  {
   "cell_type": "code",
   "execution_count": 15,
   "id": "27eb67fb",
   "metadata": {},
   "outputs": [],
   "source": [
    "get_url(form_url)"
   ]
  },
  {
   "cell_type": "code",
   "execution_count": 16,
   "id": "8b41c7dc",
   "metadata": {},
   "outputs": [],
   "source": [
    "fill_form(form_prefix + 'Full_Name', 'Nichal Dahal')"
   ]
  },
  {
   "cell_type": "code",
   "execution_count": 17,
   "id": "4c9c1421",
   "metadata": {},
   "outputs": [],
   "source": [
    "# submit_form()"
   ]
  },
  {
   "cell_type": "code",
   "execution_count": 18,
   "id": "65bdc68d",
   "metadata": {},
   "outputs": [],
   "source": [
    "click_btns_xpath('//button[normalize-space()=\"none selected\"]')"
   ]
  },
  {
   "cell_type": "code",
   "execution_count": 19,
   "id": "14f5f458",
   "metadata": {},
   "outputs": [],
   "source": [
    "# for i in range(len(df)):\n",
    "#     print(dfi)"
   ]
  },
  {
   "cell_type": "code",
   "execution_count": 20,
   "id": "824dd2c8",
   "metadata": {},
   "outputs": [],
   "source": [
    "for i in columns:\n",
    "    print('\"{}\",'.format(i))"
   ]
  },
  {
   "cell_type": "code",
   "execution_count": 21,
   "id": "951965c7",
   "metadata": {},
   "outputs": [],
   "source": [
    "text_columns = [\"Full Name\",\n",
    "                \"Full Name in Block Letter\",\n",
    "                \"बावुको नाम\",\n",
    "                \"आमाको नाम\",\n",
    "                \"Grandfather's Name\",\n",
    "                \"Grandmother's Name\",\n",
    "                \"वार्ड न\",\n",
    "                \"_GPS Location_latitude\",\n",
    "                \"_GPS Location_longitude\",\n",
    "                \"_GPS Location_altitude\",\n",
    "                \"_GPS Location_precision\",\n",
    "                \"तपाईको जम्मा परिवार संख्या कति छ ?\",\n",
    "                \"परिवार बाहेक अरुको स्वामित्वमा जग्गा छ ?\",\n",
    "                \"१८. तपाईँले अन्नबाली उत्पादनको लागि जग्गाको व्यवस्थापन कसरी गर्नु भएको छ ?\",\n",
    "                \"२०. तपाईँले खेती गरिरहनु भएको जमिनमा सिँचाई सुविधा पुगेको छ ?\",\n",
    "                \"२१. सिँचाई के मार्फत गरिएको छ?\",\n",
    "                \"२२. तपाई बसेको घरको स्वामित्व कस्तो प्रकारको हो?\",\n",
    "                \"२३. बसेको घरको स्वामित्वको प्रकार (अन्य)\",\n",
    "                \"बहालमा लिनेको नाम\",\n",
    "                \"बहालको प्रयोग\",\n",
    "                \"बहालको कोठा संख्या\",\n",
    "                \"बहालको सम्झौता अवधी\",\n",
    "                \"बहालको मिति\",\n",
    "                \"बहाल अवधी\",\n",
    "                \"बहाल रकम\",\n",
    "                \"कृषि आय\",\n",
    "                \"ब्यापार आय\",\n",
    "                \"उद्योग आय\",\n",
    "                \"जागीर आय\",\n",
    "                \"बैदेशिक रोजगारी (विप्रेषण) आय\",\n",
    "                \"भाडा (बहाल) आय\",\n",
    "                \"उद्यम आय\",\n",
    "                \"अन्य आय\",\n",
    "                \"खाना वार्षिक खर्च\",\n",
    "                \"शिक्षा खर्च\",\n",
    "                \"स्वास्थ्य खर्च\",\n",
    "                \"कर तथा सेवा शुल्क भुक्तानी खर्च\",\n",
    "                \"मनोरञ्जन तथा भ्रमण खर्च\",\n",
    "                \"सामाजिक कार्य खर्च\",\n",
    "                \"दान खर्च\",\n",
    "                \"अन्य खर्च\",\n",
    "               ]"
   ]
  },
  {
   "cell_type": "code",
   "execution_count": 22,
   "id": "c0d542a9",
   "metadata": {},
   "outputs": [],
   "source": [
    "print(text_columns)"
   ]
  },
  {
   "cell_type": "code",
   "execution_count": 23,
   "id": "40940c35",
   "metadata": {},
   "outputs": [],
   "source": [
    "joined_columns = join_with(text_columns)\n",
    "print(joined_columns)"
   ]
  },
  {
   "cell_type": "code",
   "execution_count": 24,
   "id": "fe7e8eb8",
   "metadata": {},
   "outputs": [],
   "source": [
    "form_input = df[text_columns]\n",
    "form_input"
   ]
  },
  {
   "cell_type": "code",
   "execution_count": 25,
   "id": "6e294853",
   "metadata": {},
   "outputs": [],
   "source": [
    "for i in range(len(form_input)):\n",
    "    for j in range(len(text_columns)):\n",
    "        fill_form(form_prefix + joined_columns[j], form_input[text_columns[j]][i])\n",
    "    break"
   ]
  },
  {
   "cell_type": "code",
   "execution_count": null,
   "id": "9ac2ecd9",
   "metadata": {},
   "outputs": [],
   "source": []
  }
 ],
 "metadata": {
  "kernelspec": {
   "display_name": "Python 3 (ipykernel)",
   "language": "python",
   "name": "python3"
  },
  "language_info": {
   "codemirror_mode": {
    "name": "ipython",
    "version": 3
   },
   "file_extension": ".py",
   "mimetype": "text/x-python",
   "name": "python",
   "nbconvert_exporter": "python",
   "pygments_lexer": "ipython3",
   "version": "3.10.6"
  }
 },
 "nbformat": 4,
 "nbformat_minor": 5
}
